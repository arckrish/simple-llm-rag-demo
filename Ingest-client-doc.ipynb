{
 "cells": [
  {
   "cell_type": "markdown",
   "id": "8308b229-b520-4e82-a783-eb921bb955e7",
   "metadata": {},
   "source": [
    "### Needed packages and imports"
   ]
  },
  {
   "cell_type": "code",
   "execution_count": 43,
   "id": "91e41b41-f60a-4b0f-91a1-cd273b60f21b",
   "metadata": {
    "tags": []
   },
   "outputs": [
    {
     "name": "stderr",
     "output_type": "stream",
     "text": [
      "huggingface/tokenizers: The current process just got forked, after parallelism has already been used. Disabling parallelism to avoid deadlocks...\n",
      "To disable this warning, you can either:\n",
      "\t- Avoid using `tokenizers` before the fork if possible\n",
      "\t- Explicitly set the environment variable TOKENIZERS_PARALLELISM=(true | false)\n"
     ]
    },
    {
     "name": "stdout",
     "output_type": "stream",
     "text": [
      "\n",
      "\u001b[1m[\u001b[0m\u001b[34;49mnotice\u001b[0m\u001b[1;39;49m]\u001b[0m\u001b[39;49m A new release of pip is available: \u001b[0m\u001b[31;49m24.2\u001b[0m\u001b[39;49m -> \u001b[0m\u001b[32;49m25.1.1\u001b[0m\n",
      "\u001b[1m[\u001b[0m\u001b[34;49mnotice\u001b[0m\u001b[1;39;49m]\u001b[0m\u001b[39;49m To update, run: \u001b[0m\u001b[32;49mpip install --upgrade pip\u001b[0m\n"
     ]
    }
   ],
   "source": [
    "!pip install -q einops==0.7.0 langchain==0.1.9 pypdf==4.0.2 pymilvus==2.3.6 sentence-transformers==2.4.0"
   ]
  },
  {
   "cell_type": "code",
   "execution_count": 44,
   "id": "600cd763-6ecc-4c77-89c0-47108c31c44e",
   "metadata": {
    "tags": []
   },
   "outputs": [],
   "source": [
    "import requests\n",
    "import os\n",
    "from langchain.document_loaders import PyPDFDirectoryLoader, WebBaseLoader, DirectoryLoader\n",
    "from langchain.text_splitter import RecursiveCharacterTextSplitter\n",
    "from langchain.embeddings.huggingface import HuggingFaceEmbeddings\n",
    "from langchain_community.vectorstores import Milvus"
   ]
  },
  {
   "cell_type": "markdown",
   "id": "1a82063d-6153-4812-8977-042241736b53",
   "metadata": {},
   "source": [
    "### Base parameters, the Milvus connection info"
   ]
  },
  {
   "cell_type": "code",
   "execution_count": 45,
   "id": "417ed4a4-9418-4f48-bebd-ef0ea11ae434",
   "metadata": {
    "tags": []
   },
   "outputs": [],
   "source": [
    "# Replace values according to your Milvus deployment\n",
    "MILVUS_HOST = \"vectordb-milvus.milvus.svc.cluster.local\"\n",
    "MILVUS_PORT = 19530\n",
    "MILVUS_USERNAME = \"root\"\n",
    "MILVUS_PASSWORD = \"Milvus\"\n",
    "MILVUS_COLLECTION = \"pdf_collection\""
   ]
  },
  {
   "cell_type": "markdown",
   "id": "f68f6785-480e-4519-be4f-8e1738dba4ca",
   "metadata": {},
   "source": [
    "## Initial index creation and document ingestion"
   ]
  },
  {
   "cell_type": "markdown",
   "id": "f8cff5f7-c509-48db-90b5-e15815b8b530",
   "metadata": {},
   "source": [
    "#### Download and load pdfs and markdown files"
   ]
  },
  {
   "cell_type": "code",
   "execution_count": 48,
   "id": "af4074d4-eff4-45b2-902d-ec8c075a83ef",
   "metadata": {
    "tags": []
   },
   "outputs": [],
   "source": [
    "pdf_folder_path = f\"./docs\"\n",
    "\n",
    "pdf_loader = PyPDFDirectoryLoader(pdf_folder_path)\n",
    "pdf_docs = pdf_loader.load()\n",
    "\n",
    "md_loader = DirectoryLoader(\"./docs\", glob=\"**/*.md\")\n",
    "markdown_docs = md_loader.load()\n"
   ]
  },
  {
   "cell_type": "markdown",
   "id": "cde7ed3a-0530-47a1-95c2-22db6c782a95",
   "metadata": {},
   "source": [
    "#### Inject metadata"
   ]
  },
  {
   "cell_type": "code",
   "execution_count": 49,
   "id": "8d361094-8b43-4351-8495-37628c35c42d",
   "metadata": {
    "tags": []
   },
   "outputs": [],
   "source": [
    "docs = pdf_docs + markdown_docs"
   ]
  },
  {
   "cell_type": "markdown",
   "id": "4198fe0a-38bf-4cd4-af7d-35b41c645edd",
   "metadata": {},
   "source": [
    "#### Split documents into chunks with some overlap"
   ]
  },
  {
   "cell_type": "code",
   "execution_count": 50,
   "id": "edba4a08-2194-4df1-9091-6f2b596757a1",
   "metadata": {
    "tags": []
   },
   "outputs": [
    {
     "data": {
      "text/plain": [
       "Document(page_content='Service Mesh Onboarding\\nThis guide will walk through the first time setup for onboarding to OpenShift Service Mesh. For more information on Service Mesh, please\\nsee the overview page.\\nOpenShift Clusters that have the full Service Mesh deployed are known as the Gen2 OpenShift Clusters.\\nIf you are a net-new app and have not yet onboarded to ArgoCD yet, please see CD Onboarding\\nStep 1: Create New DNS Entries\\nIn order to begin migration to Service Mesh, it is recommended you create new DNS entires specifically for the Gen2 clusters.\\nIf your application already has DNS records for Gen1, please choose a different hostname for Gen2. After migrating to Gen2 fully, you can\\nswitch the old Gen1 records to Gen2 if desired.Note\\nCreate Unique DNS For Gen2\\n6/25/25, 4:05 PM Service Mesh Onboarding - Platform Docs\\nhttps://irma.ups.com/platform/guides/service-mesh/service-mesh-onboarding/ 1/21', metadata={'source': 'docs/Service Mesh Onboarding - Platform Docs.pdf', 'page': 0})"
      ]
     },
     "execution_count": 50,
     "metadata": {},
     "output_type": "execute_result"
    }
   ],
   "source": [
    "text_splitter = RecursiveCharacterTextSplitter(chunk_size=1024,\n",
    "                                               chunk_overlap=128)\n",
    "all_splits = text_splitter.split_documents(docs)\n",
    "all_splits[0]"
   ]
  },
  {
   "cell_type": "markdown",
   "id": "7ae7eae2-c670-4eb5-803b-b4d591fa83db",
   "metadata": {},
   "source": [
    "#### Create the index and ingest the documents"
   ]
  },
  {
   "cell_type": "code",
   "execution_count": 51,
   "id": "bbb6a3e3-5ccd-441e-b80d-427555d9e9f6",
   "metadata": {
    "tags": []
   },
   "outputs": [],
   "source": [
    "# If you don't want to use a GPU, you can remove the 'device': 'cuda' argument\n",
    "model_kwargs = {}\n",
    "embeddings = HuggingFaceEmbeddings(\n",
    "    model_kwargs=model_kwargs,\n",
    "    show_progress=True\n",
    ")\n",
    "\n",
    "# BEWARE: `drop_old` is set to True, so if the collection already existed it will deleted first.\n",
    "db = Milvus(\n",
    "    embedding_function=embeddings,\n",
    "    connection_args={\"host\": MILVUS_HOST, \"port\": MILVUS_PORT, \"user\": MILVUS_USERNAME, \"password\": MILVUS_PASSWORD},\n",
    "    collection_name=MILVUS_COLLECTION,\n",
    "    metadata_field=\"metadata\",\n",
    "    text_field=\"page_content\",\n",
    "    auto_id=True,\n",
    "    drop_old=True\n",
    "    )"
   ]
  },
  {
   "cell_type": "code",
   "execution_count": 52,
   "id": "b6bf425b-dffd-4f42-9537-49d41383182d",
   "metadata": {
    "tags": []
   },
   "outputs": [
    {
     "data": {
      "application/vnd.jupyter.widget-view+json": {
       "model_id": "97d55a375f614c8aaebe6c759293e75b",
       "version_major": 2,
       "version_minor": 0
      },
      "text/plain": [
       "Batches:   0%|          | 0/3 [00:00<?, ?it/s]"
      ]
     },
     "metadata": {},
     "output_type": "display_data"
    },
    {
     "data": {
      "text/plain": [
       "[458982919043574969,\n",
       " 458982919043574970,\n",
       " 458982919043574971,\n",
       " 458982919043574972,\n",
       " 458982919043574973,\n",
       " 458982919043574974,\n",
       " 458982919043574975,\n",
       " 458982919043574976,\n",
       " 458982919043574977,\n",
       " 458982919043574978,\n",
       " 458982919043574979,\n",
       " 458982919043574980,\n",
       " 458982919043574981,\n",
       " 458982919043574982,\n",
       " 458982919043574983,\n",
       " 458982919043574984,\n",
       " 458982919043574985,\n",
       " 458982919043574986,\n",
       " 458982919043574987,\n",
       " 458982919043574988,\n",
       " 458982919043574989,\n",
       " 458982919043574990,\n",
       " 458982919043574991,\n",
       " 458982919043574992,\n",
       " 458982919043574993,\n",
       " 458982919043574994,\n",
       " 458982919043574995,\n",
       " 458982919043574996,\n",
       " 458982919043574997,\n",
       " 458982919043574998,\n",
       " 458982919043574999,\n",
       " 458982919043575000,\n",
       " 458982919043575001,\n",
       " 458982919043575002,\n",
       " 458982919043575003,\n",
       " 458982919043575004,\n",
       " 458982919043575005,\n",
       " 458982919043575006,\n",
       " 458982919043575007,\n",
       " 458982919043575008,\n",
       " 458982919043575009,\n",
       " 458982919043575010,\n",
       " 458982919043575011,\n",
       " 458982919043575012,\n",
       " 458982919043575013,\n",
       " 458982919043575014,\n",
       " 458982919043575015,\n",
       " 458982919043575016,\n",
       " 458982919043575017,\n",
       " 458982919043575018,\n",
       " 458982919043575019,\n",
       " 458982919043575020,\n",
       " 458982919043575021,\n",
       " 458982919043575022,\n",
       " 458982919043575023,\n",
       " 458982919043575024,\n",
       " 458982919043575025,\n",
       " 458982919043575026,\n",
       " 458982919043575027,\n",
       " 458982919043575028,\n",
       " 458982919043575029,\n",
       " 458982919043575030,\n",
       " 458982919043575031,\n",
       " 458982919043575032,\n",
       " 458982919043575033,\n",
       " 458982919043575034,\n",
       " 458982919043575035,\n",
       " 458982919043575036,\n",
       " 458982919043575037,\n",
       " 458982919043575038,\n",
       " 458982919043575039,\n",
       " 458982919043575040,\n",
       " 458982919043575041,\n",
       " 458982919043575042,\n",
       " 458982919043575043,\n",
       " 458982919043575044,\n",
       " 458982919043575045,\n",
       " 458982919043575046,\n",
       " 458982919043575047,\n",
       " 458982919043575048,\n",
       " 458982919043575049,\n",
       " 458982919043575050,\n",
       " 458982919043575051,\n",
       " 458982919043575052,\n",
       " 458982919043575053,\n",
       " 458982919043575054,\n",
       " 458982919043575055,\n",
       " 458982919043575056,\n",
       " 458982919043575057,\n",
       " 458982919043575058,\n",
       " 458982919043575059,\n",
       " 458982919043575060,\n",
       " 458982919043575061,\n",
       " 458982919043575062]"
      ]
     },
     "execution_count": 52,
     "metadata": {},
     "output_type": "execute_result"
    }
   ],
   "source": [
    "db.add_documents(all_splits)"
   ]
  },
  {
   "cell_type": "markdown",
   "id": "7a3d987b-8ebc-46ce-a206-48c1339b7a5b",
   "metadata": {},
   "source": [
    "#### Alternatively, add new documents"
   ]
  },
  {
   "cell_type": "code",
   "execution_count": null,
   "id": "c37f227d-a13d-456c-b91b-3c203e62fc0f",
   "metadata": {},
   "outputs": [],
   "source": [
    "# If you don't want to use a GPU, you can remove the 'device': 'cuda' argument\n",
    "# model_kwargs = {'device': 'cuda'}\n",
    "# embeddings = HuggingFaceEmbeddings(\n",
    "#     model_kwargs=model_kwargs,\n",
    "#     show_progress=True\n",
    "# )\n",
    "\n",
    "# db = Milvus(\n",
    "#     embedding_function=embeddings,\n",
    "#     connection_args={\"host\": MILVUS_HOST, \"port\": MILVUS_PORT, \"user\": MILVUS_USERNAME, \"password\": MILVUS_PASSWORD},\n",
    "#     collection_name=MILVUS_COLLECTION,\n",
    "#     metadata_field=\"metadata\",\n",
    "#     text_field=\"page_content\",\n",
    "#     auto_id=True,\n",
    "#     drop_old=False\n",
    "#     )\n",
    "\n",
    "# db.add_documents(all_splits)"
   ]
  },
  {
   "cell_type": "markdown",
   "id": "dae3b458-4979-46df-8493-7496764a2568",
   "metadata": {},
   "source": [
    "#### Test query"
   ]
  },
  {
   "cell_type": "code",
   "execution_count": null,
   "id": "489c6e6d-c42c-4de4-87cf-8edfd0e63da3",
   "metadata": {
    "tags": []
   },
   "outputs": [],
   "source": [
    "query = \"Should i create new DNS?\"\n",
    "docs_with_score = db.similarity_search_with_score(query)"
   ]
  },
  {
   "cell_type": "code",
   "execution_count": null,
   "id": "90feeb37-7888-4c5f-a5cb-5f82637cec16",
   "metadata": {
    "tags": []
   },
   "outputs": [],
   "source": [
    "for doc, score in docs_with_score:\n",
    "    print(\"-\" * 80)\n",
    "    print(\"Score: \", score)\n",
    "    print(doc.page_content)\n",
    "    print(\"-\" * 80)"
   ]
  },
  {
   "cell_type": "code",
   "execution_count": 53,
   "id": "d467479d-d1de-44b6-a15f-c588d0ab3ebd",
   "metadata": {},
   "outputs": [
    {
     "data": {
      "application/vnd.jupyter.widget-view+json": {
       "model_id": "f1a04bf8c58e46fbaeb932018cd66048",
       "version_major": 2,
       "version_minor": 0
      },
      "text/plain": [
       "Batches:   0%|          | 0/1 [00:00<?, ?it/s]"
      ]
     },
     "metadata": {},
     "output_type": "display_data"
    }
   ],
   "source": [
    "query = \"More about Openshift Users and Groups\"\n",
    "docs_with_score = db.similarity_search_with_score(query)"
   ]
  },
  {
   "cell_type": "code",
   "execution_count": 54,
   "id": "afbb6b72-073f-4813-a610-cf9b06166020",
   "metadata": {},
   "outputs": [
    {
     "name": "stdout",
     "output_type": "stream",
     "text": [
      "--------------------------------------------------------------------------------\n",
      "Score:  0.9325615763664246\n",
      "OpenShift Image Build Guidelines\n",
      "\n",
      "To address vulnerabilities with the container engine, OpenShift will run containers using arbitrary user ids that belong to the root group, thus directories and files the application/process needs should belong to the root group. Also consider building images that provide compatibility when running on plain kubernetes and default to run as a non-root user id. S2I image builds typically take care of these concerns, but using multi-stage builds requires Dockerfile user permissions considerations. For example:\n",
      "\n",
      "text USER 0 RUN chown -R 1001:0 /some/directory && \\ chmod -R g=u /some/directory USER 1001\n",
      "\n",
      "Containers cannot use privileged ports 1-1023 since these require root privileges to bind too\n",
      "\n",
      "Review Adapting Docker and Kubernetes containers to run on Red Hat OpenShift Container Platform for other important considerations with building and running containers on OpenShift\n",
      "\n",
      "Development Environments\n",
      "--------------------------------------------------------------------------------\n",
      "--------------------------------------------------------------------------------\n",
      "Score:  0.9712977409362793\n",
      "Examples:\n",
      "\n",
      "GitHub\n",
      "\n",
      "GitLab\n",
      "\n",
      "Bitbucket\n",
      "\n",
      "Multi-Tenancy Processes (platform onboarding)\n",
      "\n",
      "Openshift Users and Groups\n",
      "\n",
      "Typically, organizations rely on a centralized Identity and access management provider, ie Active Directory or LDAP, for role based access control to various tools in an organization.\n",
      "\n",
      "OpenShift/Kubernetes should periodically reconcile Users and Groups (with mappings to Users) from an Identity Provider or an Infrastructure as Code (IAC) repository responsible for syncing those objects.\n",
      "\n",
      "A separate, self-service, process should exist within the organization for the creation and maintenance of Groups within the Identity Provider. For example, this could be a ServiceNow ticket approach for developers to request Active Directory group access or a pull request, review and GitOps sync process from an Infrastructure as Code (IAC) repository.\n",
      "\n",
      "Group Naming Convention\n",
      "--------------------------------------------------------------------------------\n",
      "--------------------------------------------------------------------------------\n",
      "Score:  0.9792162179946899\n",
      "Group Naming Convention\n",
      "\n",
      "One strategy for denoting a Group to a Namespace and Role (view, edit, admin) relationship is simply a naming convention for Groups, for example:\n",
      "\n",
      "openshift-<namespace>-<role>\n",
      "\n",
      "In the spirit of least privilege access, it may make sense to deploy bounded contexts/applications into separate Namespaces, since RBAC in OpenShift/Kubernetes is controlled at the Namespace level. This ensures that developers in large teams/portfolios may be granted access to maintain only the components required of them. With this in mind, the “<namespace>” in our example Group syntax above might need to evolve to a more specific naming convention with the organization/business unit/portfolio, bounded context and environment names that make up the “<namespace>” name. For example, the Group naming convention may become: * openshift-<org>-<context>-<env>-<role>\n",
      "\n",
      "Namespace/Environment Provisioning and Maintenance\n",
      "\n",
      "Many kinds of namespaces may exist; for example:\n",
      "--------------------------------------------------------------------------------\n",
      "--------------------------------------------------------------------------------\n",
      "Score:  1.0712597370147705\n",
      "The Namespace naming convention should complement the Group Naming Convention\n",
      "\n",
      "For example: <org>-<context>-<env>\n",
      "\n",
      "It's also possible to use various operators, such as the namespace-configuration-operator to automate Namespace maintenance based on Group annotations/labels; see Orgs Management and Team Onboarding in OpenShift: A Fully Automated Approach.\n",
      "\n",
      "The Namespace maintenance process should allow for:\n",
      "\n",
      "Adding/removing Namespaces\n",
      "\n",
      "Image pull secret configuration (a secrets management solution is useful here, see below)\n",
      "\n",
      "Namespace Quota changes (t-shirt sizes)\n",
      "\n",
      "Quotas are important for limiting and sizing the expected maximum amount of resources required in a cluster. A cluster-admin should come up with a general baseline of available cluster Nodes to match the cumulative Quotas among all namespaces (or implement node autoscaling strategies). As such, a general quota “t-shirt size” option may be helpful when planning for namespace creation, such as small, medium, and large.\n",
      "--------------------------------------------------------------------------------\n"
     ]
    }
   ],
   "source": [
    "for doc, score in docs_with_score:\n",
    "    print(\"-\" * 80)\n",
    "    print(\"Score: \", score)\n",
    "    print(doc.page_content)\n",
    "    print(\"-\" * 80)"
   ]
  },
  {
   "cell_type": "code",
   "execution_count": null,
   "id": "15964e8a-7784-4b25-bdcf-dd48b2145a45",
   "metadata": {},
   "outputs": [],
   "source": []
  }
 ],
 "metadata": {
  "kernelspec": {
   "display_name": "Python 3.11",
   "language": "python",
   "name": "python3"
  },
  "language_info": {
   "codemirror_mode": {
    "name": "ipython",
    "version": 3
   },
   "file_extension": ".py",
   "mimetype": "text/x-python",
   "name": "python",
   "nbconvert_exporter": "python",
   "pygments_lexer": "ipython3",
   "version": "3.11.9"
  }
 },
 "nbformat": 4,
 "nbformat_minor": 5
}
